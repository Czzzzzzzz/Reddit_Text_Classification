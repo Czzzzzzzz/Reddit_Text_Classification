{
 "cells": [
  {
   "cell_type": "code",
   "execution_count": 13,
   "metadata": {
    "collapsed": true
   },
   "outputs": [],
   "source": [
    "import torch\n",
    "import torch.nn as nn\n",
    "\n",
    "import numpy as np\n",
    "\n",
    "import matplotlib.pyplot as plt\n",
    "\n",
    "import word2vec\n",
    "from data_loader import load_data\n",
    "\n",
    "from sklearn.model_selection import train_test_split\n",
    "from sklearn.metrics import confusion_matrix\n",
    "from sklearn.metrics import classification_report\n",
    "\n",
    "from utils import plot_confusion_matrix\n",
    "from utils import timeSince\n",
    "\n",
    "import time"
   ]
  },
  {
   "cell_type": "code",
   "execution_count": 14,
   "metadata": {
    "collapsed": true
   },
   "outputs": [],
   "source": [
    "dim_word2vec = 50\n",
    "\n",
    "batch_size = 16\n",
    "epochs = 5\n",
    "learning_rate = 1e-4\n",
    "model_fn = '../results/rnn_tc/rnn_tc_LSTM.11180355.pt'"
   ]
  },
  {
   "cell_type": "code",
   "execution_count": 15,
   "metadata": {},
   "outputs": [
    {
     "name": "stdout",
     "output_type": "stream",
     "text": [
      "loading word2vec...\n"
     ]
    }
   ],
   "source": [
    "# glov_wv = word2vec.load_wv('../data/word2vec/glove.twitter.27B/word2vec.%dd.txt' % dim_word2vec)\n",
    "glov_wv = word2vec.load_wv_from_model('../data/word2vec/retrained_word2vec/reddit_word2vec')"
   ]
  },
  {
   "cell_type": "code",
   "execution_count": 16,
   "metadata": {},
   "outputs": [
    {
     "name": "stdout",
     "output_type": "stream",
     "text": [
      "education: 1020\n",
      "politics: 1084\n",
      "science: 1036\n",
      "sports: 1000\n",
      "education: 4065\n",
      "politics: 4356\n",
      "science: 4147\n",
      "sports: 4000\n",
      "missing words: 22601, avg missing words: 1.364136\n",
      "missing words: 5691, avg missing words: 1.374638\n",
      "categories: ['education', 'politics', 'science', 'sports']\n"
     ]
    }
   ],
   "source": [
    "data_train, label_train = load_data('../data/train.csv')\n",
    "data_test, label_test = load_data('../data/test.csv')\n",
    "\n",
    "#check number of labels in each class\n",
    "tmp = label_test.tolist()\n",
    "for label in np.unique(label_test):\n",
    "    print('{}: {}'.format(label, tmp.count(label)))\n",
    "\n",
    "tmp2 = label_train.tolist()\n",
    "for label in np.unique(label_train):\n",
    "    print('{}: {}'.format(label, tmp2.count(label)))\n",
    "\n",
    "def avg_length(sentences):\n",
    "    N = len(sentences)\n",
    "    all_length = 0\n",
    "    for sentence in sentences:\n",
    "        all_length += len(sentence)\n",
    "\n",
    "    return all_length / N    \n",
    "\n",
    "def txt2vector(sentences, dic, dim, pad_length=14):\n",
    "    vectors = []\n",
    "    count = 0\n",
    "    \n",
    "    for sentence in sentences:\n",
    "        vector = []\n",
    "        for word in word2vec.preprocess(sentence[0]):\n",
    "            if len(vector) <= pad_length and word in dic:\n",
    "                vector.append(dic[word])\n",
    "            \n",
    "            if word not in dic:\n",
    "                count += 1\n",
    "        \n",
    "        while len(vector) <= pad_length:\n",
    "            vector.append(np.ones(dim))\n",
    "            \n",
    "        vectors.append(vector)\n",
    "        \n",
    "    print('missing words: %d, avg missing words: %f' % (count, count / sentences.shape[0]))\n",
    "    return np.array(vectors)\n",
    "\n",
    "data_train_vec = txt2vector(data_train, glov_wv, dim_word2vec, 15)\n",
    "data_test_vec = txt2vector(data_test, glov_wv, dim_word2vec, 15)\n",
    "\n",
    "all_categories = np.unique(label_train).tolist()\n",
    "print('categories:', all_categories)\n",
    "\n",
    "def label2vector(labels, all_categories):\n",
    "    return np.array([all_categories.index(label) for label in labels])\n",
    "\n",
    "label_train_vec = label2vector(label_train, all_categories)\n",
    "label_test_vec = label2vector(label_test, all_categories)"
   ]
  },
  {
   "cell_type": "code",
   "execution_count": 17,
   "metadata": {
    "collapsed": true
   },
   "outputs": [],
   "source": [
    "class RNN_tc(nn.Module):\n",
    "    \n",
    "    def __init__(self, input_size, hidden_size, output_size):\n",
    "        super(RNN_tc, self).__init__()\n",
    "        self.num_layer = 1\n",
    "        self.num_directions = 1\n",
    "        \n",
    "        self.hidden_size = hidden_size\n",
    "#         self.rnn = nn.RNN(input_size, hidden_size, batch_first=True)        \n",
    "        self.rnn = nn.LSTM(input_size, hidden_size, batch_first=True)\n",
    "        self.i2o = nn.Linear(hidden_size, output_size)        \n",
    "        self.softmax = nn.LogSoftmax(dim=1)\n",
    "        \n",
    "    def forward(self, input, hidden, cn):\n",
    "        output, (hidden, cn) = self.rnn(input, (hidden, cn))     \n",
    "        output = self.i2o(output[:, -1, :])     \n",
    "        output = self.softmax(output)   \n",
    "        return output, (hidden, cn)\n",
    "    \n",
    "    def initHidden(self, batch_size):\n",
    "        return torch.zeros(self.num_layer*self.num_directions, batch_size, self.hidden_size)\n",
    "    \n",
    "    def initState(self, batch_size):\n",
    "        return torch.zeros(self.num_layer*self.num_directions, batch_size, self.hidden_size)"
   ]
  },
  {
   "cell_type": "code",
   "execution_count": 18,
   "metadata": {
    "collapsed": true
   },
   "outputs": [],
   "source": [
    "def batch_iter(X, y, batch_size=64, shuffle=True):\n",
    "    N = len(X)\n",
    "    num_batch = int((N - 1) / batch_size) + 1\n",
    "    \n",
    "    if shuffle:\n",
    "        indices = np.random.permutation(np.arange(N))\n",
    "        X_shuffle = X[indices]\n",
    "        y_shuffle = y[indices]\n",
    "    else:\n",
    "        X_shuffle = X\n",
    "        y_shuffle = y\n",
    "    \n",
    "    for i in range(num_batch):\n",
    "        start_idx = i * batch_size\n",
    "        end_idx = min((i+1) * batch_size, N)\n",
    "        yield torch.tensor(X_shuffle[start_idx: end_idx], dtype=torch.float), torch.tensor(y_shuffle[start_idx: end_idx])"
   ]
  },
  {
   "cell_type": "code",
   "execution_count": 19,
   "metadata": {},
   "outputs": [
    {
     "name": "stderr",
     "output_type": "stream",
     "text": [
      "/Users/zhengcao/anaconda3/lib/python3.6/site-packages/torch/serialization.py:241: UserWarning: Couldn't retrieve source code for container of type RNN_tc. It won't be checked for correctness upon loading.\n",
      "  \"type \" + obj.__name__ + \". It won't be checked \"\n"
     ]
    },
    {
     "name": "stdout",
     "output_type": "stream",
     "text": [
      "0m 2s, 0 epoch, 100 index, 1.238313 loss\n",
      "0m 4s, 0 epoch, 200 index, 1.124761 loss\n",
      "0m 6s, 0 epoch, 300 index, 0.869920 loss\n",
      "0m 8s, 0 epoch, 400 index, 0.442529 loss\n",
      "0m 10s, 0 epoch, 500 index, 0.341786 loss\n",
      "0m 11s, 0 epoch, 600 index, 0.234509 loss\n",
      "0m 13s, 0 epoch, 700 index, 0.074497 loss\n",
      "0m 15s, 0 epoch, 800 index, 0.291286 loss\n",
      "0m 18s, 0 epoch, 900 index, 0.318942 loss\n",
      "0m 20s, 0 epoch, 1000 index, 0.112149 loss\n",
      "0m 23s, 1 epoch, 100 index, 0.495199 loss\n",
      "0m 25s, 1 epoch, 200 index, 0.213978 loss\n",
      "0m 27s, 1 epoch, 300 index, 0.217861 loss\n",
      "0m 29s, 1 epoch, 400 index, 0.454293 loss\n",
      "0m 31s, 1 epoch, 500 index, 0.291977 loss\n",
      "0m 34s, 1 epoch, 600 index, 0.322284 loss\n",
      "0m 36s, 1 epoch, 700 index, 0.126333 loss\n",
      "0m 38s, 1 epoch, 800 index, 0.170502 loss\n",
      "0m 40s, 1 epoch, 900 index, 0.179800 loss\n",
      "0m 43s, 1 epoch, 1000 index, 0.075389 loss\n",
      "0m 46s, 2 epoch, 100 index, 0.208278 loss\n",
      "0m 49s, 2 epoch, 200 index, 0.201986 loss\n",
      "0m 52s, 2 epoch, 300 index, 0.060649 loss\n",
      "0m 54s, 2 epoch, 400 index, 0.339812 loss\n",
      "0m 56s, 2 epoch, 500 index, 0.341958 loss\n",
      "0m 58s, 2 epoch, 600 index, 0.169715 loss\n",
      "1m 0s, 2 epoch, 700 index, 0.344214 loss\n",
      "1m 2s, 2 epoch, 800 index, 0.744262 loss\n",
      "1m 4s, 2 epoch, 900 index, 0.245868 loss\n",
      "1m 5s, 2 epoch, 1000 index, 0.368584 loss\n",
      "1m 8s, 3 epoch, 100 index, 0.436728 loss\n",
      "1m 9s, 3 epoch, 200 index, 0.129840 loss\n",
      "1m 11s, 3 epoch, 300 index, 0.285792 loss\n",
      "1m 13s, 3 epoch, 400 index, 0.317003 loss\n",
      "1m 15s, 3 epoch, 500 index, 0.023583 loss\n",
      "1m 16s, 3 epoch, 600 index, 0.050926 loss\n",
      "1m 18s, 3 epoch, 700 index, 0.336592 loss\n",
      "1m 20s, 3 epoch, 800 index, 0.085899 loss\n",
      "1m 21s, 3 epoch, 900 index, 0.162433 loss\n",
      "1m 23s, 3 epoch, 1000 index, 0.193852 loss\n",
      "1m 26s, 4 epoch, 100 index, 0.237326 loss\n",
      "1m 28s, 4 epoch, 200 index, 0.494647 loss\n",
      "1m 30s, 4 epoch, 300 index, 0.133304 loss\n",
      "1m 32s, 4 epoch, 400 index, 0.309198 loss\n",
      "1m 34s, 4 epoch, 500 index, 0.043901 loss\n",
      "1m 36s, 4 epoch, 600 index, 0.030589 loss\n",
      "1m 38s, 4 epoch, 700 index, 0.186793 loss\n",
      "1m 40s, 4 epoch, 800 index, 0.257565 loss\n",
      "1m 42s, 4 epoch, 900 index, 0.759605 loss\n",
      "1m 44s, 4 epoch, 1000 index, 0.250041 loss\n"
     ]
    }
   ],
   "source": [
    "n_class = len(all_categories)\n",
    "n_training = len(data_train)\n",
    "\n",
    "model = RNN_tc(dim_word2vec, 200, n_class)\n",
    "\n",
    "optimizer = torch.optim.Adam(model.parameters(), lr=learning_rate)\n",
    "# scheduler = torch.optim.lr_scheduler.StepLR(optimizer, step_size=30, gamma=0.1)\n",
    "criterion = nn.NLLLoss()\n",
    "\n",
    "losses = []\n",
    "\n",
    "start = time.time()\n",
    "min_loss = 1e+5\n",
    "\n",
    "# test = 0\n",
    "\n",
    "for epoch in range(epochs):\n",
    "#     scheduler.step()\n",
    "    idx = 0\n",
    "    for X_batch, y_batch in batch_iter(data_train_vec, label_train_vec, batch_size):\n",
    "        \n",
    "        cur_batch_size = y_batch.size()[0]\n",
    "        \n",
    "        hidden = model.initHidden(cur_batch_size)\n",
    "        cn = model.initState(cur_batch_size)\n",
    "        \n",
    "        output, hidden = model(X_batch, hidden, cn)\n",
    "        loss = criterion(output, y_batch)\n",
    "\n",
    "        optimizer.zero_grad()\n",
    "        loss.backward(retain_graph=True)        \n",
    "        optimizer.step()        \n",
    "        \n",
    "        if loss.item() < min_loss:\n",
    "            min_loss = loss.item()\n",
    "            torch.save(model, model_fn)\n",
    "        \n",
    "        idx += 1\n",
    "        \n",
    "        if idx % 100 == 0:\n",
    "            losses.append(loss.item())\n",
    "            print('%s, %d epoch, %d index, %f loss' % (timeSince(start),epoch, idx, loss.item()))            \n",
    "        "
   ]
  },
  {
   "cell_type": "code",
   "execution_count": 20,
   "metadata": {},
   "outputs": [
    {
     "data": {
      "image/png": "[encoded data removed]",
      "text/plain": [
       "<Figure size 432x288 with 1 Axes>"
      ]
     },
     "metadata": {},
     "output_type": "display_data"
    }
   ],
   "source": [
    "plt.figure()\n",
    "plt.plot(np.arange(len(losses)), losses)\n",
    "plt.show()"
   ]
  },
  {
   "cell_type": "code",
   "execution_count": 22,
   "metadata": {},
   "outputs": [
    {
     "name": "stdout",
     "output_type": "stream",
     "text": [
      "Confusion matrix, without normalization\n",
      "[[ 896   40   46   38]\n",
      " [  13 1024    9   38]\n",
      " [  20   20  976   20]\n",
      " [  10   23   16  951]]\n"
     ]
    },
    {
     "data": {
      "image/png": "[encoded data removed]",
      "text/plain": [
       "<Figure size 432x288 with 2 Axes>"
      ]
     },
     "metadata": {},
     "output_type": "display_data"
    },
    {
     "name": "stdout",
     "output_type": "stream",
     "text": [
      "              precision    recall  f1-score   support\n",
      "\n",
      "   education       0.95      0.88      0.91      1020\n",
      "    politics       0.93      0.94      0.93      1084\n",
      "     science       0.93      0.94      0.94      1036\n",
      "      sports       0.91      0.95      0.93      1000\n",
      "\n",
      "   micro avg       0.93      0.93      0.93      4140\n",
      "   macro avg       0.93      0.93      0.93      4140\n",
      "weighted avg       0.93      0.93      0.93      4140\n",
      "\n"
     ]
    }
   ],
   "source": [
    "def category_from_output(output, all_categories):\n",
    "    top_n, top_i = output.topk(1)\n",
    "    category_i = top_i[0].item()\n",
    "    return all_categories[category_i]\n",
    "\n",
    "y_preds = []\n",
    "for X_batch, y_batch in batch_iter(data_test_vec, label_test_vec, 1, False):\n",
    "    \n",
    "    cur_batch_size = y_batch.size()[0]    \n",
    "    \n",
    "    hidden = model.initHidden(cur_batch_size)\n",
    "    cn = model.initHidden(cur_batch_size)    \n",
    "    \n",
    "    output, hidden = model(X_batch, hidden, cn)    \n",
    "\n",
    "    for r in output:\n",
    "        y_preds.append(category_from_output(r, all_categories))\n",
    "\n",
    "cnf_matrix = confusion_matrix(label_test, y_preds)\n",
    "\n",
    "plt.figure()\n",
    "plot_confusion_matrix(cnf_matrix, classes=all_categories, title='Confusion matrix')\n",
    "plt.show()\n",
    "\n",
    "print(classification_report(label_test, y_preds))"
   ]
  }
 ],
 "metadata": {
  "kernelspec": {
   "display_name": "Python 3",
   "language": "python",
   "name": "python3"
  },
  "language_info": {
   "codemirror_mode": {
    "name": "ipython",
    "version": 3
   },
   "file_extension": ".py",
   "mimetype": "text/x-python",
   "name": "python",
   "nbconvert_exporter": "python",
   "pygments_lexer": "ipython3",
   "version": "3.6.3"
  }
 },
 "nbformat": 4,
 "nbformat_minor": 2
}
