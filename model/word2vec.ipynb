{
 "cells": [
  {
   "cell_type": "code",
   "execution_count": 121,
   "metadata": {
    "collapsed": true
   },
   "outputs": [],
   "source": [
    "import numpy as np\n",
    "\n",
    "from gensim.models import KeyedVectors\n",
    "from gensim.models import Word2Vec\n",
    "\n",
    "from gensim.utils import simple_preprocess\n",
    "from gensim.utils import simple_tokenize"
   ]
  },
  {
   "cell_type": "code",
   "execution_count": 73,
   "metadata": {
    "collapsed": true
   },
   "outputs": [],
   "source": [
    "# command line to convert glove file to word2vec file.\n",
    "# python -m gensim.scripts.glove2word2vec --input <glove_file> --output <w2v_file>\n",
    "\n",
    "def load_wv(fn='../data/word2vec/glove.twitter.27B/word2vec.50d.txt'):\n",
    "    wv = KeyedVectors.load_word2vec_format(fn, binary=False)\n",
    "    return wv"
   ]
  },
  {
   "cell_type": "code",
   "execution_count": 74,
   "metadata": {},
   "outputs": [],
   "source": [
    "def preprocess(sentence):\n",
    "    simple_tokenize(sentence)\n",
    "    return sentence"
   ]
  },
  {
   "cell_type": "code",
   "execution_count": 75,
   "metadata": {
    "collapsed": true
   },
   "outputs": [],
   "source": [
    "def load_corpus(fn='../data/data.csv'):\n",
    "    sentences = []\n",
    "    with open(fn, 'r', encoding='utf-8') as f:\n",
    "        for line in f.readlines():\n",
    "            sentence = line.split('\\t')[0].strip()\n",
    "#             sentence = sentence.split(' ')\n",
    "            sentences.append(preprocess(sentence))\n",
    "    return sentences"
   ]
  },
  {
   "cell_type": "code",
   "execution_count": 128,
   "metadata": {},
   "outputs": [],
   "source": [
    "def build_model(sentences, dim, pretrain_fn='../data/word2vec/glove.twitter.27B/word2vec.50d.txt'):\n",
    "    model = Word2Vec(size=dim, min_count=5)\n",
    "    model.build_vocab(sentences)\n",
    "    total_examples = model.corpus_count\n",
    "    \n",
    "    print('load pre-trained vectors...')\n",
    "    glove_wv = load_wv(pretrain_fn)\n",
    "    \n",
    "    print('intersect glove vectors')\n",
    "    model.build_vocab([list(glove_wv.vocab.keys())], update=True)\n",
    "    model.intersect_word2vec_format(pretrain_fn, binary=False, lockf=1.0)\n",
    "    \n",
    "    print('train model...')\n",
    "    model.train(sentences, total_examples=total_examples, epochs=model.iter)\n",
    "    return model"
   ]
  },
  {
   "cell_type": "code",
   "execution_count": 77,
   "metadata": {
    "collapsed": true
   },
   "outputs": [],
   "source": [
    "def save_model_to(model, fn='../data/word2vec/retrained_word2vec/reddit_word2vec'):\n",
    "    print('saving word2vec...')\n",
    "    model.save(fn)"
   ]
  },
  {
   "cell_type": "code",
   "execution_count": 129,
   "metadata": {
    "collapsed": true
   },
   "outputs": [],
   "source": [
    "def load_model_with(fn='../data/word2vec/retrained_word2vec/reddit_word2vec'):\n",
    "    print('loading word2vec...')\n",
    "    model = Word2Vec.load(fn)\n",
    "    return model"
   ]
  },
  {
   "cell_type": "code",
   "execution_count": 82,
   "metadata": {},
   "outputs": [
    {
     "name": "stdout",
     "output_type": "stream",
     "text": [
      "load pre-trained vectors...\n",
      "train model...\n"
     ]
    },
    {
     "name": "stderr",
     "output_type": "stream",
     "text": [
      "/Users/zhengcao/anaconda3/lib/python3.6/site-packages/ipykernel_launcher.py:13: DeprecationWarning: Call to deprecated `iter` (Attribute will be removed in 4.0.0, use self.epochs instead).\n",
      "  del sys.path[0]\n"
     ]
    }
   ],
   "source": [
    "sentences = load_corpus()\n",
    "model = build_model(sentences, 50)\n",
    "save_model_to(model)"
   ]
  },
  {
   "cell_type": "code",
   "execution_count": 84,
   "metadata": {},
   "outputs": [
    {
     "name": "stderr",
     "output_type": "stream",
     "text": [
      "/Users/zhengcao/anaconda3/lib/python3.6/site-packages/ipykernel_launcher.py:1: DeprecationWarning: Call to deprecated `similar_by_word` (Method will be removed in 4.0.0, use self.wv.similar_by_word() instead).\n",
      "  \"\"\"Entry point for launching an IPython kernel.\n"
     ]
    },
    {
     "data": {
      "text/plain": [
       "[('teachers', 0.9260638356208801),\n",
       " ('schools', 0.8740049004554749),\n",
       " ('student', 0.8569083213806152),\n",
       " ('college', 0.8254045248031616),\n",
       " ('colleges', 0.8141670227050781),\n",
       " ('professors', 0.8069064617156982),\n",
       " ('classes', 0.7910361289978027),\n",
       " ('graduate', 0.7838039994239807),\n",
       " ('education', 0.7693856358528137),\n",
       " ('seniors', 0.7657411098480225)]"
      ]
     },
     "execution_count": 84,
     "metadata": {},
     "output_type": "execute_result"
    }
   ],
   "source": [
    "model.similar_by_word('students', topn=10)"
   ]
  },
  {
   "cell_type": "code",
   "execution_count": 86,
   "metadata": {},
   "outputs": [],
   "source": [
    "new_model = load_model_with()"
   ]
  }
 ],
 "metadata": {
  "kernelspec": {
   "display_name": "Python 3",
   "language": "python",
   "name": "python3"
  },
  "language_info": {
   "codemirror_mode": {
    "name": "ipython",
    "version": 3
   },
   "file_extension": ".py",
   "mimetype": "text/x-python",
   "name": "python",
   "nbconvert_exporter": "python",
   "pygments_lexer": "ipython3",
   "version": "3.6.3"
  }
 },
 "nbformat": 4,
 "nbformat_minor": 2
}
