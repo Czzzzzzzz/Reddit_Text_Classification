{
 "cells": [
  {
   "cell_type": "code",
   "execution_count": 112,
   "metadata": {
    "collapsed": true
   },
   "outputs": [],
   "source": [
    "import torch\n",
    "import torch.nn as nn\n",
    "\n",
    "import numpy as np\n",
    "\n",
    "import matplotlib.pyplot as plt\n",
    "\n",
    "import word2vec\n",
    "from data_loader import load_data\n",
    "\n",
    "from sklearn.model_selection import train_test_split\n",
    "from sklearn.metrics import confusion_matrix\n",
    "from sklearn.metrics import classification_report\n",
    "\n",
    "from utils import plot_confusion_matrix\n",
    "from utils import timeSince\n",
    "\n",
    "import time"
   ]
  },
  {
   "cell_type": "code",
   "execution_count": 113,
   "metadata": {
    "collapsed": true
   },
   "outputs": [],
   "source": [
    "dim_word2vec = 50\n",
    "\n",
    "batch_size = 16\n",
    "epochs = 5\n",
    "learning_rate = 1e-4\n",
    "model_fn = '../results/rnn_tc/rnn_tc_50d.11160425.pt'"
   ]
  },
  {
   "cell_type": "code",
   "execution_count": 114,
   "metadata": {},
   "outputs": [
    {
     "name": "stdout",
     "output_type": "stream",
     "text": [
      "loading word2vec...\n"
     ]
    }
   ],
   "source": [
    "# glov_wv = word2vec.load_wv('../data/word2vec/glove.twitter.27B/word2vec.%dd.txt' % dim_word2vec)\n",
    "glov_wv = word2vec.load_wv_from_model('../data/word2vec/retrained_word2vec/reddit_word2vec')"
   ]
  },
  {
   "cell_type": "code",
   "execution_count": 115,
   "metadata": {
    "collapsed": true,
    "scrolled": true
   },
   "outputs": [],
   "source": [
    "data, labels = load_data('../data/data.csv')\n",
    "data_train, data_test, label_train, label_test = train_test_split(data, labels, test_size=0.2, shuffle=True,stratify=labels)"
   ]
  },
  {
   "cell_type": "code",
   "execution_count": 116,
   "metadata": {
    "scrolled": true
   },
   "outputs": [
    {
     "name": "stdout",
     "output_type": "stream",
     "text": [
      "education: 1016\n",
      "politics: 1084\n",
      "science: 1036\n",
      "sports: 1000\n",
      "education: 4065\n",
      "politics: 4333\n",
      "science: 4142\n",
      "sports: 4000\n",
      "missing words: 22750, avg missing words: 1.375453\n",
      "missing words: 5542, avg missing words: 1.339942\n",
      "categories: ['education', 'politics', 'science', 'sports']\n"
     ]
    }
   ],
   "source": [
    "#check number of labels in each class\n",
    "tmp = label_test.tolist()\n",
    "for label in np.unique(label_test):\n",
    "    print('{}: {}'.format(label, tmp.count(label)))\n",
    "\n",
    "tmp2 = label_train.tolist()\n",
    "for label in np.unique(label_train):\n",
    "    print('{}: {}'.format(label, tmp2.count(label)))\n",
    "\n",
    "def avg_length(sentences):\n",
    "    N = len(sentences)\n",
    "    all_length = 0\n",
    "    for sentence in sentences:\n",
    "        all_length += len(sentence)\n",
    "\n",
    "    return all_length / N    \n",
    "\n",
    "def txt2vector(sentences, dic, dim, pad_length=14):\n",
    "    vectors = []\n",
    "    count = 0\n",
    "    \n",
    "    for sentence in sentences:\n",
    "        vector = []\n",
    "        for word in word2vec.preprocess(sentence[0]):\n",
    "            if len(vector) <= pad_length and word in dic:\n",
    "                vector.append(dic[word])\n",
    "            \n",
    "            if word not in dic:\n",
    "                count += 1\n",
    "        \n",
    "        while len(vector) <= pad_length:\n",
    "            vector.append(np.ones(dim))\n",
    "            \n",
    "        vectors.append(vector)\n",
    "        \n",
    "    print('missing words: %d, avg missing words: %f' % (count, count / sentences.shape[0]))\n",
    "    return np.array(vectors)\n",
    "\n",
    "data_train_vec = txt2vector(data_train, glov_wv, dim_word2vec, 15)\n",
    "data_test_vec = txt2vector(data_test, glov_wv, dim_word2vec, 15)\n",
    "\n",
    "all_categories = np.unique(labels).tolist()\n",
    "print('categories:', all_categories)\n",
    "\n",
    "def label2vector(labels, all_categories):\n",
    "    return np.array([all_categories.index(label) for label in labels])\n",
    "\n",
    "label_train_vec = label2vector(label_train, all_categories)\n",
    "label_test_vec = label2vector(label_test, all_categories)"
   ]
  },
  {
   "cell_type": "code",
   "execution_count": 117,
   "metadata": {},
   "outputs": [
    {
     "data": {
      "text/plain": [
       "((16540, 16, 50), (4136, 16, 50), (16540,))"
      ]
     },
     "execution_count": 117,
     "metadata": {},
     "output_type": "execute_result"
    }
   ],
   "source": [
    "data_train_vec.shape, data_test_vec.shape, label_train_vec.shape"
   ]
  },
  {
   "cell_type": "code",
   "execution_count": 118,
   "metadata": {
    "collapsed": true
   },
   "outputs": [],
   "source": [
    "def batch_iter(X, y, batch_size=64, shuffle=True):\n",
    "    N = len(X)\n",
    "    num_batch = int((N - 1) / batch_size) + 1\n",
    "    \n",
    "    if shuffle:\n",
    "        indices = np.random.permutation(np.arange(N))\n",
    "        X_shuffle = X[indices]\n",
    "        y_shuffle = y[indices]\n",
    "    else:\n",
    "        X_shuffle = X\n",
    "        y_shuffle = y\n",
    "    \n",
    "    for i in range(num_batch):\n",
    "        start_idx = i * batch_size\n",
    "        end_idx = min((i+1) * batch_size, N)\n",
    "        yield X_shuffle[start_idx: end_idx], y_shuffle[start_idx: end_idx]"
   ]
  },
  {
   "cell_type": "code",
   "execution_count": 119,
   "metadata": {
    "collapsed": true
   },
   "outputs": [],
   "source": [
    "n_class = len(all_categories)\n",
    "n_training = len(data_train)"
   ]
  },
  {
   "cell_type": "code",
   "execution_count": 120,
   "metadata": {
    "collapsed": true
   },
   "outputs": [],
   "source": [
    "class RNN_tc(nn.Module):\n",
    "    \n",
    "    def __init__(self, input_size, hidden_size, output_size):\n",
    "        super(RNN_tc, self).__init__()\n",
    "        self.num_layer = 1\n",
    "        self.num_directions = 1\n",
    "        \n",
    "        self.hidden_size = hidden_size\n",
    "        self.rnn = nn.RNN(input_size, hidden_size, batch_first=True)        \n",
    "        self.i2o = nn.Linear(hidden_size, output_size)        \n",
    "        self.softmax = nn.LogSoftmax(dim=1)\n",
    "        \n",
    "    def forward(self, input, hidden):\n",
    "        output, hidden = self.rnn(input, hidden)     \n",
    "        output = self.i2o(output[:, -1, :])     \n",
    "        output = self.softmax(output)   \n",
    "        return output, hidden\n",
    "    \n",
    "    def initHidden(self, batch_size):\n",
    "        return torch.zeros(self.num_layer*self.num_directions ,batch_size, self.hidden_size)"
   ]
  },
  {
   "cell_type": "code",
   "execution_count": 122,
   "metadata": {
    "scrolled": true
   },
   "outputs": [
    {
     "name": "stderr",
     "output_type": "stream",
     "text": [
      "/Users/zhengcao/anaconda3/lib/python3.6/site-packages/torch/serialization.py:241: UserWarning: Couldn't retrieve source code for container of type RNN_tc. It won't be checked for correctness upon loading.\n",
      "  \"type \" + obj.__name__ + \". It won't be checked \"\n"
     ]
    },
    {
     "name": "stdout",
     "output_type": "stream",
     "text": [
      "0m 0s, 0 epoch, 100 index, 1.359987 loss\n",
      "0m 1s, 0 epoch, 200 index, 1.058396 loss\n",
      "0m 1s, 0 epoch, 300 index, 0.754912 loss\n",
      "0m 2s, 0 epoch, 400 index, 0.790463 loss\n",
      "0m 3s, 0 epoch, 500 index, 0.519766 loss\n",
      "0m 3s, 0 epoch, 600 index, 0.346228 loss\n",
      "0m 4s, 0 epoch, 700 index, 0.303462 loss\n",
      "0m 5s, 0 epoch, 800 index, 0.174790 loss\n",
      "0m 5s, 0 epoch, 900 index, 0.216088 loss\n",
      "0m 6s, 0 epoch, 1000 index, 0.266841 loss\n",
      "0m 7s, 1 epoch, 100 index, 0.170198 loss\n",
      "0m 7s, 1 epoch, 200 index, 0.128011 loss\n",
      "0m 8s, 1 epoch, 300 index, 0.331760 loss\n",
      "0m 8s, 1 epoch, 400 index, 0.249096 loss\n",
      "0m 9s, 1 epoch, 500 index, 0.498649 loss\n",
      "0m 9s, 1 epoch, 600 index, 0.284910 loss\n",
      "0m 10s, 1 epoch, 700 index, 0.230832 loss\n",
      "0m 11s, 1 epoch, 800 index, 0.566946 loss\n",
      "0m 11s, 1 epoch, 900 index, 0.116255 loss\n",
      "0m 12s, 1 epoch, 1000 index, 0.076228 loss\n",
      "0m 12s, 2 epoch, 100 index, 0.316399 loss\n",
      "0m 13s, 2 epoch, 200 index, 0.571238 loss\n",
      "0m 13s, 2 epoch, 300 index, 0.064314 loss\n",
      "0m 14s, 2 epoch, 400 index, 0.683879 loss\n",
      "0m 14s, 2 epoch, 500 index, 0.641618 loss\n",
      "0m 15s, 2 epoch, 600 index, 0.660446 loss\n",
      "0m 15s, 2 epoch, 700 index, 0.220478 loss\n",
      "0m 16s, 2 epoch, 800 index, 0.324776 loss\n",
      "0m 16s, 2 epoch, 900 index, 0.096076 loss\n",
      "0m 17s, 2 epoch, 1000 index, 0.432409 loss\n",
      "0m 18s, 3 epoch, 100 index, 0.193388 loss\n",
      "0m 18s, 3 epoch, 200 index, 0.090990 loss\n",
      "0m 19s, 3 epoch, 300 index, 0.264266 loss\n",
      "0m 19s, 3 epoch, 400 index, 0.120938 loss\n",
      "0m 20s, 3 epoch, 500 index, 0.104494 loss\n",
      "0m 20s, 3 epoch, 600 index, 0.466372 loss\n",
      "0m 21s, 3 epoch, 700 index, 0.406510 loss\n",
      "0m 21s, 3 epoch, 800 index, 0.075227 loss\n",
      "0m 22s, 3 epoch, 900 index, 0.111679 loss\n",
      "0m 23s, 3 epoch, 1000 index, 0.401294 loss\n",
      "0m 24s, 4 epoch, 100 index, 0.318978 loss\n",
      "0m 24s, 4 epoch, 200 index, 0.263860 loss\n",
      "0m 25s, 4 epoch, 300 index, 0.666384 loss\n",
      "0m 25s, 4 epoch, 400 index, 0.231912 loss\n",
      "0m 26s, 4 epoch, 500 index, 0.091036 loss\n",
      "0m 26s, 4 epoch, 600 index, 0.686972 loss\n",
      "0m 27s, 4 epoch, 700 index, 0.091460 loss\n",
      "0m 27s, 4 epoch, 800 index, 0.088000 loss\n",
      "0m 28s, 4 epoch, 900 index, 0.283421 loss\n",
      "0m 28s, 4 epoch, 1000 index, 0.492936 loss\n"
     ]
    }
   ],
   "source": [
    "model = RNN_tc(dim_word2vec, 200, n_class)\n",
    "\n",
    "optimizer = torch.optim.Adam(model.parameters(), lr=learning_rate)\n",
    "# scheduler = torch.optim.lr_scheduler.StepLR(optimizer, step_size=30, gamma=0.1)\n",
    "criterion = nn.NLLLoss()\n",
    "\n",
    "losses = []\n",
    "\n",
    "start = time.time()\n",
    "min_loss = 1e+5\n",
    "\n",
    "# test = 0\n",
    "\n",
    "for epoch in range(epochs):\n",
    "#     scheduler.step()\n",
    "    idx = 0\n",
    "    for X_batch, y_batch in batch_iter(data_train_vec, label_train_vec, batch_size):\n",
    "        X_batch = torch.tensor(X_batch, dtype=torch.float)\n",
    "        y_batch = torch.tensor(y_batch)\n",
    "        \n",
    "        cur_batch_size = y_batch.size()[0]\n",
    "        \n",
    "        hidden = model.initHidden(cur_batch_size)        \n",
    "        output, hidden = model(X_batch, hidden)\n",
    "        loss = criterion(output, y_batch)\n",
    "\n",
    "        optimizer.zero_grad()\n",
    "        loss.backward(retain_graph=True)        \n",
    "        optimizer.step()        \n",
    "        \n",
    "        if loss.item() < min_loss:\n",
    "            min_loss = loss.item()\n",
    "            torch.save(model, model_fn)\n",
    "        \n",
    "        idx += 1\n",
    "        \n",
    "        if idx % 100 == 0:\n",
    "            losses.append(loss.item())\n",
    "            print('%s, %d epoch, %d index, %f loss' % (timeSince(start),epoch, idx, loss.item()))            \n",
    "        "
   ]
  },
  {
   "cell_type": "code",
   "execution_count": 123,
   "metadata": {},
   "outputs": [
    {
     "data": {
      "image/png": "[encoded data removed]",
      "text/plain": [
       "<Figure size 432x288 with 1 Axes>"
      ]
     },
     "metadata": {},
     "output_type": "display_data"
    }
   ],
   "source": [
    "plt.figure()\n",
    "plt.plot(np.arange(len(losses)), losses)\n",
    "plt.show()"
   ]
  },
  {
   "cell_type": "code",
   "execution_count": 124,
   "metadata": {},
   "outputs": [
    {
     "name": "stdout",
     "output_type": "stream",
     "text": [
      "Confusion matrix, without normalization\n",
      "[[939  30  34  13]\n",
      " [ 46 997  19  22]\n",
      " [ 50  21 948  17]\n",
      " [ 33  38  23 906]]\n"
     ]
    },
    {
     "data": {
      "image/png": "[encoded data removed]",
      "text/plain": [
       "<Figure size 432x288 with 2 Axes>"
      ]
     },
     "metadata": {},
     "output_type": "display_data"
    },
    {
     "name": "stdout",
     "output_type": "stream",
     "text": [
      "              precision    recall  f1-score   support\n",
      "\n",
      "   education       0.88      0.92      0.90      1016\n",
      "    politics       0.92      0.92      0.92      1084\n",
      "     science       0.93      0.92      0.92      1036\n",
      "      sports       0.95      0.91      0.93      1000\n",
      "\n",
      "   micro avg       0.92      0.92      0.92      4136\n",
      "   macro avg       0.92      0.92      0.92      4136\n",
      "weighted avg       0.92      0.92      0.92      4136\n",
      "\n"
     ]
    }
   ],
   "source": [
    "def category_from_output(output, all_categories):\n",
    "    top_n, top_i = output.topk(1)\n",
    "    category_i = top_i[0].item()\n",
    "    return all_categories[category_i]\n",
    "\n",
    "y_preds = []\n",
    "for X_batch, y_batch in batch_iter(data_test_vec, label_test_vec, 1, False):\n",
    "    X_batch = torch.tensor(X_batch, dtype=torch.float)\n",
    "    y_batch = torch.tensor(y_batch)\n",
    "    \n",
    "    cur_batch_size = y_batch.size()[0]    \n",
    "    \n",
    "    hidden = model.initHidden(cur_batch_size)        \n",
    "    output, hidden = model(X_batch, hidden)    \n",
    "\n",
    "    for r in output:\n",
    "        y_preds.append(category_from_output(r, all_categories))\n",
    "\n",
    "cnf_matrix = confusion_matrix(label_test, y_preds)\n",
    "\n",
    "plt.figure()\n",
    "plot_confusion_matrix(cnf_matrix, classes=all_categories, title='Confusion matrix')\n",
    "plt.show()\n",
    "\n",
    "print(classification_report(label_test, y_preds))"
   ]
  }
 ],
 "metadata": {
  "kernelspec": {
   "display_name": "Python 3",
   "language": "python",
   "name": "python3"
  },
  "language_info": {
   "codemirror_mode": {
    "name": "ipython",
    "version": 3
   },
   "file_extension": ".py",
   "mimetype": "text/x-python",
   "name": "python",
   "nbconvert_exporter": "python",
   "pygments_lexer": "ipython3",
   "version": "3.6.3"
  }
 },
 "nbformat": 4,
 "nbformat_minor": 2
}
